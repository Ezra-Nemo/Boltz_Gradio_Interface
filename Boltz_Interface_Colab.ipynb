{
 "cells": [
  {
   "cell_type": "markdown",
   "metadata": {
    "id": "Pw5yAuF2v-uQ"
   },
   "source": [
    "## Installing and Running the Boltz Gradio Interface ##\n",
    "\n",
    "1. Executing the cell below will begin the installation of the Boltz Interface (this may take 4-6 minutes).\n",
    "\n",
    "2. Once the installation is complete, a shareable link (public URL) will be displayed below the cell. This link can be opened anywhere, as long as this Colab interface remains active."
   ]
  },
  {
   "cell_type": "code",
   "execution_count": null,
   "metadata": {
    "cellView": "form",
    "id": "cZJEQjAxunYT"
   },
   "outputs": [],
   "source": [
    "# @title Install dependencies & run Boltz Interface\n",
    "!git clone https://github.com/jwohlwend/boltz.git -q\n",
    "!pip uninstall -q -y torchvision\n",
    "%cd boltz\n",
    "!git checkout f957d1c40818a2085da44fff1e2928d479ba47a1\n",
    "\n",
    "import os, time\n",
    "pyproject_path = os.path.join(os.getcwd(), \"pyproject.toml\")\n",
    "with open(pyproject_path, \"r\") as f:\n",
    "    lines = f.readlines()\n",
    "\n",
    "with open(pyproject_path, \"w\") as f:\n",
    "    for line in lines:\n",
    "        if \"numpy>=\" in line:\n",
    "            f.write('    \"numpy\",\\n')\n",
    "        else:\n",
    "            f.write(line)\n",
    "\n",
    "tik = time.perf_counter()\n",
    "print('Installing Boltz... (~5 minutes)')\n",
    "!pip install -q -e . > /dev/null\n",
    "elapsed = time.perf_counter() - tik\n",
    "min, sec = map(int, divmod(elapsed, 60))\n",
    "print(f'Boltz installed! Total: {min:02d}:{sec:02d}')\n",
    "\n",
    "!git clone https://github.com/Ezra-Nemo/Boltz_Gradio_Interface.git -q\n",
    "%cd Boltz_Gradio_Interface\n",
    "print('Installing Boltz Gradio Interface...')\n",
    "!pip install -q -r colab_requirements.txt > /dev/null\n",
    "print('Interface installed!')\n",
    "\n",
    "print('Running interface...')\n",
    "!python boltz_gradio.py --share"
   ]
  }
 ],
 "metadata": {
  "accelerator": "GPU",
  "colab": {
   "authorship_tag": "ABX9TyPygV4ZjMakjs6PruuIC6d3",
   "gpuType": "T4",
   "provenance": []
  },
  "kernelspec": {
   "display_name": "Python 3",
   "name": "python3"
  },
  "language_info": {
   "name": "python"
  }
 },
 "nbformat": 4,
 "nbformat_minor": 0
}
